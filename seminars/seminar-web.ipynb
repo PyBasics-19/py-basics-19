{
 "cells": [
  {
   "cell_type": "code",
   "execution_count": 1,
   "metadata": {},
   "outputs": [],
   "source": [
    "import requests\n",
    "from bs4 import BeautifulSoup\n",
    "from time import sleep"
   ]
  },
  {
   "cell_type": "code",
   "execution_count": 3,
   "metadata": {},
   "outputs": [],
   "source": [
    "def GetNews(url0):\n",
    "    \"\"\"\n",
    "    Returns a tuple with url0, date, author, description, title, final_text, rubrics, diff.\n",
    "    Parameters:\n",
    "    \n",
    "    url0 is a link to the news (string)\n",
    "    \"\"\"\n",
    "    page0 = requests.get(url0)\n",
    "    soup0 = BeautifulSoup(page0.text, 'lxml')\n",
    "    author = soup0.find_all('meta', {'name' : 'author'})[0].attrs['content']\n",
    "    date = soup0.find_all('meta', {'itemprop' : 'datePublished'})[0].attrs['content']\n",
    "    title = soup0.find_all('meta', {'property' : 'og:title'})[0].attrs['content']\n",
    "    description = soup0.find_all('meta', {'name' : 'description'})[0].attrs['content']\n",
    "    rubrics = [r.text for r in soup0.find_all('p')[0].find_all('a')]\n",
    "    diff = soup0.find_all('span', {'class' : 'difficult-value'})[0].text\n",
    "    text_list = soup0.find_all('p', {'class' : None})\n",
    "    text = [t.text for t in text_list]\n",
    "    final_text = ' '.join(text)\n",
    "    final_text = final_text.replace('\\n', ' ')\n",
    "    \n",
    "    return url0, date, author, description, title, final_text, rubrics, diff"
   ]
  },
  {
   "cell_type": "code",
   "execution_count": 4,
   "metadata": {},
   "outputs": [],
   "source": [
    "url = 'https://nplus1.ru/' # сохраняем\n",
    "page = requests.get(url) # загружаем страницу по ссылке"
   ]
  },
  {
   "cell_type": "code",
   "execution_count": 5,
   "metadata": {},
   "outputs": [],
   "source": [
    "soup = BeautifulSoup(page.text, 'lxml') "
   ]
  },
  {
   "cell_type": "code",
   "execution_count": 6,
   "metadata": {},
   "outputs": [
    {
     "data": {
      "text/plain": [
       "['/news/2019/12/03/mail',\n",
       " '/news/2019/12/03/Vikram-was-found',\n",
       " '/news/2019/12/03/pipistrel',\n",
       " '/news/2019/12/03/first-pandemic',\n",
       " '/news/2019/12/02/deepcomposer',\n",
       " '/news/2019/12/02/elizabeth-i-tacitus',\n",
       " '/news/2019/12/02/bowling',\n",
       " '/news/2019/12/02/habsburg-jaw',\n",
       " '/news/2019/12/02/ice-gps',\n",
       " '/news/2019/12/02/four-striped-mice',\n",
       " '/news/2019/12/02/siberian-sauropod',\n",
       " '/news/2019/12/02/mi38t',\n",
       " '/news/2019/12/02/hg-puma',\n",
       " '/news/2019/11/29/moon-map',\n",
       " '/news/2019/12/02/vizski',\n",
       " '/news/2019/12/02/container',\n",
       " '/news/2019/12/02/perlan',\n",
       " '/news/2019/11/30/all-the-work-and-no-buckling',\n",
       " '/news/2019/11/30/deepchina',\n",
       " '/news/2019/11/30/robotic-scientist',\n",
       " '/news/2019/11/30/robotic-scientist',\n",
       " '/news/2019/12/03/first-pandemic',\n",
       " '/news/2019/11/29/coldest-reaction',\n",
       " '/news/2019/11/25/d-meson-tau-decay',\n",
       " '/news/2019/11/29/fossil-ice-in-chondrite',\n",
       " '/news/2019/11/27/regular-inversion',\n",
       " '/news/2019/11/27/autotrophic-e-coli',\n",
       " '/news/2019/11/25/delay-gratification-crows',\n",
       " '/news/2019/11/29/moon-map']"
      ]
     },
     "execution_count": 6,
     "metadata": {},
     "output_type": "execute_result"
    }
   ],
   "source": [
    "urls = []\n",
    "\n",
    "for link in soup.find_all('a'):\n",
    "    if '/news' in link.get('href'):\n",
    "        urls.append(link.get('href'))\n",
    "urls"
   ]
  },
  {
   "cell_type": "code",
   "execution_count": 7,
   "metadata": {},
   "outputs": [
    {
     "data": {
      "text/plain": [
       "['https://nplus1.ru/news/2019/12/03/mail',\n",
       " 'https://nplus1.ru/news/2019/12/03/Vikram-was-found',\n",
       " 'https://nplus1.ru/news/2019/12/03/pipistrel',\n",
       " 'https://nplus1.ru/news/2019/12/03/first-pandemic',\n",
       " 'https://nplus1.ru/news/2019/12/02/deepcomposer',\n",
       " 'https://nplus1.ru/news/2019/12/02/elizabeth-i-tacitus',\n",
       " 'https://nplus1.ru/news/2019/12/02/bowling',\n",
       " 'https://nplus1.ru/news/2019/12/02/habsburg-jaw',\n",
       " 'https://nplus1.ru/news/2019/12/02/ice-gps',\n",
       " 'https://nplus1.ru/news/2019/12/02/four-striped-mice',\n",
       " 'https://nplus1.ru/news/2019/12/02/siberian-sauropod',\n",
       " 'https://nplus1.ru/news/2019/12/02/mi38t',\n",
       " 'https://nplus1.ru/news/2019/12/02/hg-puma',\n",
       " 'https://nplus1.ru/news/2019/11/29/moon-map',\n",
       " 'https://nplus1.ru/news/2019/12/02/vizski',\n",
       " 'https://nplus1.ru/news/2019/12/02/container',\n",
       " 'https://nplus1.ru/news/2019/12/02/perlan',\n",
       " 'https://nplus1.ru/news/2019/11/30/all-the-work-and-no-buckling',\n",
       " 'https://nplus1.ru/news/2019/11/30/deepchina',\n",
       " 'https://nplus1.ru/news/2019/11/30/robotic-scientist',\n",
       " 'https://nplus1.ru/news/2019/11/30/robotic-scientist',\n",
       " 'https://nplus1.ru/news/2019/12/03/first-pandemic',\n",
       " 'https://nplus1.ru/news/2019/11/29/coldest-reaction',\n",
       " 'https://nplus1.ru/news/2019/11/25/d-meson-tau-decay',\n",
       " 'https://nplus1.ru/news/2019/11/29/fossil-ice-in-chondrite',\n",
       " 'https://nplus1.ru/news/2019/11/27/regular-inversion',\n",
       " 'https://nplus1.ru/news/2019/11/27/autotrophic-e-coli',\n",
       " 'https://nplus1.ru/news/2019/11/25/delay-gratification-crows',\n",
       " 'https://nplus1.ru/news/2019/11/29/moon-map']"
      ]
     },
     "execution_count": 7,
     "metadata": {},
     "output_type": "execute_result"
    }
   ],
   "source": [
    "full_urls = []\n",
    "\n",
    "for u in urls:\n",
    "    res = 'https://nplus1.ru' + u\n",
    "    full_urls.append(res) \n",
    "\n",
    "full_urls"
   ]
  },
  {
   "cell_type": "code",
   "execution_count": 9,
   "metadata": {},
   "outputs": [
    {
     "name": "stdout",
     "output_type": "stream",
     "text": [
      "https://nplus1.ru/news/2019/12/03/mail........ done\n",
      "https://nplus1.ru/news/2019/12/03/Vikram-was-found........ done\n",
      "https://nplus1.ru/news/2019/12/03/pipistrel........ done\n",
      "https://nplus1.ru/news/2019/12/03/first-pandemic........ done\n",
      "https://nplus1.ru/news/2019/12/02/deepcomposer........ done\n",
      "https://nplus1.ru/news/2019/12/02/elizabeth-i-tacitus........ done\n",
      "https://nplus1.ru/news/2019/12/02/bowling........ done\n",
      "https://nplus1.ru/news/2019/12/02/habsburg-jaw........ done\n",
      "https://nplus1.ru/news/2019/12/02/ice-gps........ done\n",
      "https://nplus1.ru/news/2019/12/02/four-striped-mice........ done\n",
      "https://nplus1.ru/news/2019/12/02/siberian-sauropod........ done\n",
      "https://nplus1.ru/news/2019/12/02/mi38t........ done\n",
      "https://nplus1.ru/news/2019/12/02/hg-puma........ done\n",
      "https://nplus1.ru/news/2019/11/29/moon-map........ done\n",
      "https://nplus1.ru/news/2019/12/02/vizski........ done\n",
      "https://nplus1.ru/news/2019/12/02/container........ done\n",
      "https://nplus1.ru/news/2019/12/02/perlan........ done\n",
      "https://nplus1.ru/news/2019/11/30/all-the-work-and-no-buckling........ done\n",
      "https://nplus1.ru/news/2019/11/30/deepchina........ done\n",
      "https://nplus1.ru/news/2019/11/30/robotic-scientist........ done\n",
      "https://nplus1.ru/news/2019/11/30/robotic-scientist........ done\n",
      "https://nplus1.ru/news/2019/12/03/first-pandemic........ done\n",
      "https://nplus1.ru/news/2019/11/29/coldest-reaction........ done\n",
      "https://nplus1.ru/news/2019/11/25/d-meson-tau-decay........ done\n",
      "https://nplus1.ru/news/2019/11/29/fossil-ice-in-chondrite........ done\n",
      "https://nplus1.ru/news/2019/11/27/regular-inversion........ done\n",
      "https://nplus1.ru/news/2019/11/27/autotrophic-e-coli........ done\n",
      "https://nplus1.ru/news/2019/11/25/delay-gratification-crows........ done\n",
      "https://nplus1.ru/news/2019/11/29/moon-map........ done\n"
     ]
    }
   ],
   "source": [
    "info = []\n",
    "for link in full_urls:\n",
    "    res = GetNews(link)\n",
    "    info.append(res)\n",
    "    sleep(2)\n",
    "    print(link + ' ........ done') "
   ]
  },
  {
   "cell_type": "code",
   "execution_count": 11,
   "metadata": {},
   "outputs": [],
   "source": [
    "import pandas as pd\n",
    "df = pd.DataFrame(info) "
   ]
  },
  {
   "cell_type": "code",
   "execution_count": 15,
   "metadata": {},
   "outputs": [],
   "source": [
    "df.columns = ['link', 'date', 'author', 'desc', \n",
    "             'title', 'text', 'rub', 'diffc'] "
   ]
  },
  {
   "cell_type": "code",
   "execution_count": 17,
   "metadata": {},
   "outputs": [],
   "source": [
    "df['diffc'] = df['diffc'].astype(float) "
   ]
  },
  {
   "cell_type": "code",
   "execution_count": 19,
   "metadata": {},
   "outputs": [
    {
     "name": "stdout",
     "output_type": "stream",
     "text": [
      "<class 'pandas.core.frame.DataFrame'>\n",
      "RangeIndex: 29 entries, 0 to 28\n",
      "Data columns (total 8 columns):\n",
      "link      29 non-null object\n",
      "date      29 non-null object\n",
      "author    29 non-null object\n",
      "desc      29 non-null object\n",
      "title     29 non-null object\n",
      "text      29 non-null object\n",
      "rub       29 non-null object\n",
      "diffc     29 non-null float64\n",
      "dtypes: float64(1), object(7)\n",
      "memory usage: 1.9+ KB\n"
     ]
    }
   ],
   "source": [
    "df.info() "
   ]
  },
  {
   "cell_type": "code",
   "execution_count": 21,
   "metadata": {},
   "outputs": [],
   "source": [
    "import seaborn as sns"
   ]
  },
  {
   "cell_type": "code",
   "execution_count": 27,
   "metadata": {},
   "outputs": [
    {
     "data": {
      "text/plain": [
       "<matplotlib.axes._subplots.AxesSubplot at 0x28d3d7203c8>"
      ]
     },
     "execution_count": 27,
     "metadata": {},
     "output_type": "execute_result"
    },
    {
     "data": {
      "image/png": "[encoded data removed]",
      "text/plain": [
       "<Figure size 432x288 with 1 Axes>"
      ]
     },
     "metadata": {},
     "output_type": "display_data"
    }
   ],
   "source": [
    "sns.set() \n",
    "sns.distplot(df['diffc'], kde=False, bins = 7) "
   ]
  },
  {
   "cell_type": "code",
   "execution_count": 28,
   "metadata": {},
   "outputs": [
    {
     "name": "stdout",
     "output_type": "stream",
     "text": [
      "Collecting selenium\n",
      "  Downloading https://files.pythonhosted.org/packages/80/d6/4294f0b4bce4de0abf13e17190289f9d0613b0a44e5dd6a7f5ca98459853/selenium-3.141.0-py2.py3-none-any.whl (904kB)\n",
      "Requirement already satisfied: urllib3 in d:\\anaconda3\\lib\\site-packages (from selenium) (1.24.2)\n",
      "Installing collected packages: selenium\n",
      "Successfully installed selenium-3.141.0\n"
     ]
    }
   ],
   "source": [
    "!pip install selenium "
   ]
  },
  {
   "cell_type": "code",
   "execution_count": 29,
   "metadata": {},
   "outputs": [],
   "source": [
    "import selenium"
   ]
  },
  {
   "cell_type": "code",
   "execution_count": 30,
   "metadata": {},
   "outputs": [],
   "source": [
    "from selenium import webdriver as wd"
   ]
  },
  {
   "cell_type": "code",
   "execution_count": 33,
   "metadata": {},
   "outputs": [],
   "source": [
    "br = wd.Chrome(r'D:\\Downloads\\chromedriver_win32\\chromedriver.exe') "
   ]
  },
  {
   "cell_type": "code",
   "execution_count": 34,
   "metadata": {},
   "outputs": [],
   "source": [
    "br.get(\"http://cikrf.ru/services/lk_address/?do=find_by_uik\")"
   ]
  },
  {
   "cell_type": "code",
   "execution_count": 36,
   "metadata": {},
   "outputs": [],
   "source": [
    "uik_field = br.find_element_by_css_selector('#uik')"
   ]
  },
  {
   "cell_type": "code",
   "execution_count": 37,
   "metadata": {},
   "outputs": [],
   "source": [
    "uik = 244\n",
    "uik_field.send_keys(uik) "
   ]
  },
  {
   "cell_type": "code",
   "execution_count": 38,
   "metadata": {},
   "outputs": [],
   "source": [
    "reg_field = br.find_element_by_name('subject')\n",
    "reg_field.send_keys(\"Ивановская область\") "
   ]
  },
  {
   "cell_type": "code",
   "execution_count": 39,
   "metadata": {},
   "outputs": [],
   "source": [
    "button = br.find_element_by_link_text(\"Отправить запрос\")\n",
    "button.click() "
   ]
  },
  {
   "cell_type": "code",
   "execution_count": 41,
   "metadata": {},
   "outputs": [],
   "source": [
    "page = br.page_source"
   ]
  },
  {
   "cell_type": "code",
   "execution_count": 42,
   "metadata": {},
   "outputs": [],
   "source": [
    "soup = BeautifulSoup(page, 'lxml')"
   ]
  },
  {
   "cell_type": "code",
   "execution_count": 46,
   "metadata": {},
   "outputs": [],
   "source": [
    "address = ''\n",
    "for p in soup.findAll('p'):\n",
    "    if 'Адрес помещения для голосования:' in p.text:\n",
    "        address = p.text"
   ]
  },
  {
   "cell_type": "code",
   "execution_count": 51,
   "metadata": {},
   "outputs": [],
   "source": [
    "def get_address(uik, reg):\n",
    "    br.get(\"http://cikrf.ru/services/lk_address/?do=find_by_uik\")\n",
    "    br.implicitly_wait(1) \n",
    "    uik_field = br.find_element_by_css_selector('#uik')\n",
    "    reg_field = br.find_element_by_name('subject')\n",
    "    uik_field.send_keys(uik) \n",
    "    reg_field.send_keys(reg) \n",
    "    button = br.find_element_by_link_text(\"Отправить запрос\")\n",
    "    button.click() \n",
    "    page = br.page_source\n",
    "    soup = BeautifulSoup(page, 'lxml')\n",
    "    address = ''\n",
    "    for p in soup.findAll('p'):\n",
    "        if 'Адрес помещения для голосования:' in p.text:\n",
    "            address = p.text\n",
    "    return address"
   ]
  },
  {
   "cell_type": "code",
   "execution_count": 50,
   "metadata": {},
   "outputs": [
    {
     "data": {
      "text/plain": [
       "'Адрес помещения для голосования: Российская Федерация, Московская область, Дмитровский городской округ, город Дмитров, улица Внуковская, дом 40, ООО \"Дмитровское учебно-производственное предприятие\"'"
      ]
     },
     "execution_count": 50,
     "metadata": {},
     "output_type": "execute_result"
    }
   ],
   "source": [
    "get_address(245, \"Московская область\")"
   ]
  },
  {
   "cell_type": "code",
   "execution_count": 52,
   "metadata": {},
   "outputs": [
    {
     "name": "stdout",
     "output_type": "stream",
     "text": [
      "Адрес помещения для голосования: 140250, Московская область, городской округ Воскресенск, поселок Белоозерский, улица 50 лет Октября, 6, здание дома культуры\n",
      "Адрес помещения для голосования: 140250, Московская область, городской округ Воскресенск, поселок Белоозерский, улица Комсомольская, 1 А, здание Фаустовской школы\n",
      "Адрес помещения для голосования: 140240, Московская область, городской округ Воскресенск, деревня Золотово, улица Моховая, 67, здание Золотовской школы\n",
      "Адрес помещения для голосования: 140240, Московская область, городской округ Воскресенск, деревня Золотово, улица Моховая, 67, здание Золотовской школы\n",
      "Адрес помещения для голосования: 140230, Московская область, городской округ Воскресенск, поселок Виноградово, улица Коммунистическая, 1 А, здание администрации\n",
      "Адрес помещения для голосования: 140220, Московская область, городской округ Воскресенск, село Конобеево, улица Учхоз, 7, здание УОХ \"Леоновское\"\n",
      "Адрес помещения для голосования: 140220, Московская область, городской округ Воскресенск, село Конобеево, улица Центральная, 123 А, здание сельского клуба\n",
      "Адрес помещения для голосования: 140220, Московская область, городской округ Воскресенск, село Конобеево, улица Центральная, 123 А, здание сельского клуба\n",
      "Адрес помещения для голосования: 140237, Московская область, городской округ Воскресенск, село Барановское, улица Центральная, 1А, здание администрации\n",
      "Адрес помещения для голосования: 140237, Московская область, городской округ Воскресенск, село Усадище, улица Королькова, 102, здание дома культуры\n",
      "Адрес помещения для голосования: 140230, Московская область, городской округ Воскресенск, поселок Виноградово, улица Зеленая, д.18, здание филиала ГКУ МО \"Мособллес\"\n",
      "Адрес помещения для голосования: 143562, Московская область, городской округ Восход, поселок Восход, -, дом 12, Здание администрации\n",
      "Адрес помещения для голосования: 143010, Московская область, городской округ Власиха, поселок Власиха, микрорайон Школьный, дом 10, здание МОУ СОШ \"Перспектива\"\n",
      "Адрес помещения для голосования: 143010, Московская область, городской округ Власиха, поселок Власиха, микрорайон Школьный, дом 1 А, здание МОУ СОШ им.А.С.Попова\n",
      "Адрес помещения для голосования: 143010, Московская область, городской округ Власиха, поселок Власиха, улица Маршала Жукова, дом 9, здание МУК \"Дворец культуры\" (правое фойе)\n",
      "Адрес помещения для голосования: 143010, Московская область, городской округ Власиха, поселок Власиха, улица Маршала Жукова, дом 9, здание МУК \"Дворец культуры\" (левое фойе)\n",
      "Адрес помещения для голосования: 143010, Московская область, городской округ Власиха, поселок Власиха, улица Маршала Жукова, дом 9, здание МУК \"Дворец культуры\" (левое фойе)\n",
      "Адрес помещения для голосования: 143010, Московская область, городской округ Власиха, поселок Власиха, улица Маршала Жукова, дом 9, здание МУК \"Дворец культуры\" (правое фойе)\n",
      "Адрес помещения для голосования: 143010, Московская область, городской округ Власиха, поселок Власиха, улица Лесная, дом 37, здание клуба войсковой части\n",
      "Адрес помещения для голосования: 143010, Московская область, городской округ Власиха, поселок Власиха, улица Маршала Жукова, дом 25, административное здание (левое)\n",
      "Адрес помещения для голосования: 143010, Московская область, городской округ Власиха, поселок Власиха, улица Маршала Жукова, дом 23, административное здание (правое)\n"
     ]
    }
   ],
   "source": [
    "for i in range(200, 221):\n",
    "    try:\n",
    "        a = get_address(i, \"Московская область\")\n",
    "        print(a)\n",
    "    except:\n",
    "        print(i, 'Error!')\n",
    "        a = None\n",
    "        pass"
   ]
  },
  {
   "cell_type": "code",
   "execution_count": 53,
   "metadata": {},
   "outputs": [],
   "source": [
    "br.get('http://www.biblio-globus.ru/')"
   ]
  },
  {
   "cell_type": "code",
   "execution_count": 54,
   "metadata": {},
   "outputs": [],
   "source": [
    "search = br.find_element_by_id('search_string')\n",
    "search.send_keys('Python') "
   ]
  },
  {
   "cell_type": "code",
   "execution_count": 56,
   "metadata": {},
   "outputs": [],
   "source": [
    "button = br.find_element_by_id('search_submit')\n",
    "button.click() "
   ]
  },
  {
   "cell_type": "code",
   "execution_count": 57,
   "metadata": {},
   "outputs": [],
   "source": [
    "page = br.page_source"
   ]
  },
  {
   "cell_type": "code",
   "execution_count": 58,
   "metadata": {},
   "outputs": [],
   "source": [
    "soup = BeautifulSoup(page)"
   ]
  },
  {
   "cell_type": "code",
   "execution_count": 60,
   "metadata": {},
   "outputs": [],
   "source": [
    "raw_items = soup.findAll('a', {'class':'name'}) \n",
    "items = []\n",
    "for i in raw_items:\n",
    "    items.append(i.text) "
   ]
  },
  {
   "cell_type": "code",
   "execution_count": 64,
   "metadata": {},
   "outputs": [],
   "source": [
    "raw_authors = soup.findAll('div', {'class':'author'})\n",
    "authors = []\n",
    "for a in raw_authors:\n",
    "    authors.append(a.text)"
   ]
  },
  {
   "cell_type": "code",
   "execution_count": 65,
   "metadata": {},
   "outputs": [
    {
     "data": {
      "text/plain": [
       "['',\n",
       " 'Д. Хеллман',\n",
       " 'М.  Лутц',\n",
       " 'Б. Бенгфорт, Р. Билбро, Т. Охеда',\n",
       " 'П. Бэрри',\n",
       " 'Б. Пэйн',\n",
       " 'К. Элбон',\n",
       " 'П. Джоши',\n",
       " 'З. Шоу',\n",
       " 'Дж. Мюллер']"
      ]
     },
     "execution_count": 65,
     "metadata": {},
     "output_type": "execute_result"
    }
   ],
   "source": [
    "authors"
   ]
  },
  {
   "cell_type": "code",
   "execution_count": 66,
   "metadata": {},
   "outputs": [],
   "source": [
    "nextp = br.find_element_by_class_name('next_page')"
   ]
  },
  {
   "cell_type": "code",
   "execution_count": 67,
   "metadata": {},
   "outputs": [],
   "source": [
    "nextp.click() "
   ]
  },
  {
   "cell_type": "code",
   "execution_count": null,
   "metadata": {},
   "outputs": [],
   "source": []
  }
 ],
 "metadata": {
  "kernelspec": {
   "display_name": "Python 3",
   "language": "python",
   "name": "python3"
  },
  "language_info": {
   "codemirror_mode": {
    "name": "ipython",
    "version": 3
   },
   "file_extension": ".py",
   "mimetype": "text/x-python",
   "name": "python",
   "nbconvert_exporter": "python",
   "pygments_lexer": "ipython3",
   "version": "3.7.3"
  }
 },
 "nbformat": 4,
 "nbformat_minor": 2
}

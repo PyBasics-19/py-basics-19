{
 "cells": [
  {
   "cell_type": "markdown",
   "metadata": {},
   "source": [
    "## Программирование в Python\n",
    "### Небольшой обзор по виджетам Jupyter Notebook\n",
    "\n",
    "*Алла Тамбовцева*"
   ]
  },
  {
   "cell_type": "markdown",
   "metadata": {},
   "source": [
    "Если библиотека для виджетов не установлена, ее нужно установить:"
   ]
  },
  {
   "cell_type": "code",
   "execution_count": null,
   "metadata": {},
   "outputs": [],
   "source": [
    "!pip install ipywidgets"
   ]
  },
  {
   "cell_type": "markdown",
   "metadata": {},
   "source": [
    "Далее, как обычно, импортируем библиотеку:"
   ]
  },
  {
   "cell_type": "code",
   "execution_count": 1,
   "metadata": {},
   "outputs": [],
   "source": [
    "import ipywidgets as widgets"
   ]
  },
  {
   "cell_type": "markdown",
   "metadata": {},
   "source": [
    "Посмотрим на примеры запроса информации у пользователя с помощью виджетов, а также обратим внимание на то, как эту информацию сохранить для последующей обработки. \n",
    "\n",
    "Представим себе небольшой, немного странный опрос."
   ]
  },
  {
   "cell_type": "markdown",
   "metadata": {},
   "source": [
    "### Пример слайдера с целочисленными значениями"
   ]
  },
  {
   "cell_type": "code",
   "execution_count": 5,
   "metadata": {},
   "outputs": [
    {
     "name": "stdout",
     "output_type": "stream",
     "text": [
      "Оцените свою пунктуальность по шкале от Карлсона (значение 1) до Монте-Кристо (значение 10):\n"
     ]
    },
    {
     "data": {
      "application/vnd.jupyter.widget-view+json": {
       "model_id": "98c5f6aa83f140d2b3754fb33973e5b0",
       "version_major": 2,
       "version_minor": 0
      },
      "text/plain": [
       "IntSlider(value=5, continuous_update=False, description='Вопрос 1: ', max=10, min=1)"
      ]
     },
     "metadata": {},
     "output_type": "display_data"
    }
   ],
   "source": [
    "print(\"Оцените свою пунктуальность по шкале от Карлсона (значение 1) до Монте-Кристо (значение 10):\")\n",
    "\n",
    "# создаем слайдер и сохраняем в slider_int\n",
    "# value – значение по умолчанию\n",
    "# min – минимум, левая граница\n",
    "# max – максимум, правая граница\n",
    "# step – шаг\n",
    "# description – описание, отображается рядом со слайдером\n",
    "\n",
    "slider_int = widgets.IntSlider(\n",
    "    value=5,\n",
    "    min=1,\n",
    "    max=10,\n",
    "    step=1,\n",
    "    description='Вопрос 1: ',\n",
    "    disabled=False,\n",
    "    continuous_update=False,\n",
    "    orientation='horizontal',\n",
    "    readout=True,\n",
    "    readout_format='d'\n",
    ")\n",
    "\n",
    "# выводим его на экран\n",
    "\n",
    "display(slider_int)"
   ]
  },
  {
   "cell_type": "code",
   "execution_count": 6,
   "metadata": {},
   "outputs": [
    {
     "name": "stdout",
     "output_type": "stream",
     "text": [
      "Ничего. Карлсон тоже хоть куда!\n"
     ]
    }
   ],
   "source": [
    "# сохраняем выбранное значение в p и делаем с ним, что хотим\n",
    "\n",
    "p = slider_int.value\n",
    "\n",
    "if p > 7:\n",
    "    print(\"Эдмон, это вы?\")\n",
    "else:\n",
    "    print(\"Ничего. Карлсон тоже хоть куда!\") "
   ]
  },
  {
   "cell_type": "markdown",
   "metadata": {},
   "source": [
    "### Пример слайдера с выбором интервала"
   ]
  },
  {
   "cell_type": "code",
   "execution_count": 9,
   "metadata": {},
   "outputs": [
    {
     "name": "stdout",
     "output_type": "stream",
     "text": [
      "Возраст спрашивать неприлично, поэтому укажите допустимый для вас интервал:\n"
     ]
    },
    {
     "data": {
      "application/vnd.jupyter.widget-view+json": {
       "model_id": "0147ff902a974df8a75e2c8ef09fe4b8",
       "version_major": 2,
       "version_minor": 0
      },
      "text/plain": [
       "IntRangeSlider(value=(20, 40), continuous_update=False, description='Возраст:', step=2)"
      ]
     },
     "metadata": {},
     "output_type": "display_data"
    }
   ],
   "source": [
    "print(\"Возраст спрашивать неприлично, поэтому укажите допустимый для вас интервал:\")\n",
    "\n",
    "# создаем слайдер и сохраняем в slider_range\n",
    "# value – значения по умолчанию, две границы, поэтому список\n",
    "# min – минимум, левая граница\n",
    "# max – максимум, правая граница\n",
    "# step – шаг\n",
    "# description – описание, отображается рядом со слайдером\n",
    "\n",
    "slider_range = widgets.IntRangeSlider(\n",
    "    value=[20, 40],\n",
    "    min=0,\n",
    "    max=100,\n",
    "    step=2,\n",
    "    description='Возраст:',\n",
    "    disabled=False,\n",
    "    continuous_update=False,\n",
    "    orientation='horizontal',\n",
    "    readout=True,\n",
    "    readout_format='d',\n",
    ")\n",
    "\n",
    "display(slider_range) "
   ]
  },
  {
   "cell_type": "code",
   "execution_count": 11,
   "metadata": {},
   "outputs": [
    {
     "data": {
      "text/plain": [
       "(20, 30)"
      ]
     },
     "execution_count": 11,
     "metadata": {},
     "output_type": "execute_result"
    }
   ],
   "source": [
    "# посмотрим на значения – это кортеж\n",
    "slider_range.value"
   ]
  },
  {
   "cell_type": "code",
   "execution_count": 12,
   "metadata": {},
   "outputs": [
    {
     "name": "stdout",
     "output_type": "stream",
     "text": [
      "Спасибо за точность!\n"
     ]
    }
   ],
   "source": [
    "# сохраним границы в переменные right и left и поиграемся с ними\n",
    "left, right = slider_range.value\n",
    "\n",
    "if right - left > 20:\n",
    "    print(\"Мда, неужели все настолько секретно?\")\n",
    "else:\n",
    "    print(\"Спасибо за точность!\") "
   ]
  },
  {
   "cell_type": "markdown",
   "metadata": {},
   "source": [
    "### Пример с выпадающим меню"
   ]
  },
  {
   "cell_type": "code",
   "execution_count": 44,
   "metadata": {},
   "outputs": [
    {
     "name": "stdout",
     "output_type": "stream",
     "text": [
      "Выберите наиболее приятный для вас цвет:\n"
     ]
    },
    {
     "data": {
      "application/vnd.jupyter.widget-view+json": {
       "model_id": "cbb85d1cab09428c9e8fc0861af7d56b",
       "version_major": 2,
       "version_minor": 0
      },
      "text/plain": [
       "Dropdown(description='Цвет:', layout=Layout(width='initial'), options=(('Цвет свежепойманного лосося', 'lights…"
      ]
     },
     "metadata": {},
     "output_type": "display_data"
    }
   ],
   "source": [
    "print(\"Выберите наиболее приятный для вас цвет:\")\n",
    "\n",
    "# options – список пар (текст в меню, значение)\n",
    "# value – значение по умолчанию\n",
    "# layout с initial – вытягивает меню по ширине ячейки – чтобы весь текст опций поместился\n",
    "\n",
    "widget_opt = widgets.Dropdown(\n",
    "    options=[('Цвет свежепойманного лосося', 'lightsalmon'), \n",
    "             ('Цвет прошлогоднего снега', 'snow'), \n",
    "             ('Цвет убежавшего хамелеона', 'ghostwhite'), \n",
    "             ('Цвет постаревшего Чиполлино', 'peru'), \n",
    "             ('Цвет потухшего костра', 'black'), \n",
    "             ('Цвет обиженной амёбы', 'lightcyan')],\n",
    "    value='lightsalmon',\n",
    "    description='Цвет:',\n",
    "    layout={'width': 'initial'}\n",
    ")\n",
    "\n",
    "display(widget_opt)"
   ]
  },
  {
   "cell_type": "code",
   "execution_count": 15,
   "metadata": {},
   "outputs": [
    {
     "data": {
      "text/plain": [
       "'lightsalmon'"
      ]
     },
     "execution_count": 15,
     "metadata": {},
     "output_type": "execute_result"
    }
   ],
   "source": [
    "widget_opt.value  # сохраняется значение, не метка"
   ]
  },
  {
   "cell_type": "code",
   "execution_count": 46,
   "metadata": {},
   "outputs": [
    {
     "name": "stdout",
     "output_type": "stream",
     "text": [
      "А теперь посмотрите, что вы выбрали...\n"
     ]
    },
    {
     "data": {
      "image/png": "[encoded data removed]",
      "text/plain": [
       "<Figure size 432x288 with 1 Axes>"
      ]
     },
     "metadata": {},
     "output_type": "display_data"
    }
   ],
   "source": [
    "%matplotlib inline\n",
    "import matplotlib.pyplot as plt\n",
    "\n",
    "# Rectangle – для прямоугольника\n",
    "# width, height – ширина и высота\n",
    "# color – выставляем цвет фона\n",
    "\n",
    "print(\"А теперь посмотрите, что вы выбрали...\")\n",
    "\n",
    "rect = plt.Rectangle(xy=(0,0), \n",
    "                    width=4, \n",
    "                    height=3, \n",
    "                    color=widget_opt.value)\n",
    "plt.gca().add_patch(rect)\n",
    "plt.xticks([])  # no ticks\n",
    "plt.yticks([])  # no ticks\n",
    "plt.show()"
   ]
  },
  {
   "cell_type": "markdown",
   "metadata": {},
   "source": [
    "Кстати, есть уже готовый виджет для выбора цветов!"
   ]
  },
  {
   "cell_type": "code",
   "execution_count": 48,
   "metadata": {},
   "outputs": [
    {
     "data": {
      "application/vnd.jupyter.widget-view+json": {
       "model_id": "8b650a062e894b4f8a42b5fa563d5e0c",
       "version_major": 2,
       "version_minor": 0
      },
      "text/plain": [
       "ColorPicker(value='blue', description='Выберите цвет')"
      ]
     },
     "metadata": {},
     "output_type": "display_data"
    }
   ],
   "source": [
    "# после запуска кода появляется новое окно для выбора цвета из спектра\n",
    "# выбираем цвет, закрываем, значение сохраняется (value)\n",
    "\n",
    "widgets.ColorPicker(\n",
    "    concise=False,\n",
    "    description='Выберите цвет',\n",
    "    value='blue',\n",
    "    disabled=False\n",
    ")"
   ]
  },
  {
   "cell_type": "markdown",
   "metadata": {},
   "source": [
    "### Пример с полем для ввода "
   ]
  },
  {
   "cell_type": "code",
   "execution_count": 54,
   "metadata": {},
   "outputs": [
    {
     "name": "stdout",
     "output_type": "stream",
     "text": [
      "Введите ответ на следующий вопрос.\n",
      "Сколько черных чумазых чертят нужно, чтобы начертить черными чернилами чертеж?\n"
     ]
    },
    {
     "data": {
      "application/vnd.jupyter.widget-view+json": {
       "model_id": "65e9dd91200f482981a742e0a9ffb127",
       "version_major": 2,
       "version_minor": 0
      },
      "text/plain": [
       "Text(value='0', description='Ответ:', placeholder='Введите целое число: ')"
      ]
     },
     "metadata": {},
     "output_type": "display_data"
    }
   ],
   "source": [
    "print(\"Введите ответ на следующий вопрос.\")\n",
    "print(\"Сколько черных чумазых чертят нужно, чтобы начертить черными чернилами чертеж?\")\n",
    "\n",
    "# value – значение по умолчанию (строка)\n",
    "# placeholder – текст, который появляется в поле при удалении значения по умолчанию\n",
    "# description –  текст рядом с полем\n",
    "\n",
    "widget_num = widgets.Text(\n",
    "    value='0',\n",
    "    placeholder='Введите целое число: ',\n",
    "    description='Ответ:',\n",
    "    disabled=False\n",
    ")\n",
    "\n",
    "display(widget_num)"
   ]
  },
  {
   "cell_type": "code",
   "execution_count": 56,
   "metadata": {},
   "outputs": [
    {
     "name": "stdout",
     "output_type": "stream",
     "text": [
      "Да!\n"
     ]
    }
   ],
   "source": [
    "n = int(widget_num.value)\n",
    "if n == 4:\n",
    "    print(\"Да!\")\n",
    "else:\n",
    "    print(\"У вас не было детства!\")"
   ]
  }
 ],
 "metadata": {
  "kernelspec": {
   "display_name": "Python 3",
   "language": "python",
   "name": "python3"
  },
  "language_info": {
   "codemirror_mode": {
    "name": "ipython",
    "version": 3
   },
   "file_extension": ".py",
   "mimetype": "text/x-python",
   "name": "python",
   "nbconvert_exporter": "python",
   "pygments_lexer": "ipython3",
   "version": "3.7.4"
  }
 },
 "nbformat": 4,
 "nbformat_minor": 2
}
